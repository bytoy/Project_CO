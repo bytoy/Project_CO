{
  "nbformat": 4,
  "nbformat_minor": 0,
  "metadata": {
    "accelerator": "GPU",
    "colab": {
      "name": "modeling_ (1).ipynb",
      "provenance": [],
      "collapsed_sections": [],
      "machine_shape": "hm",
      "include_colab_link": true
    },
    "kernelspec": {
      "display_name": "Python 3",
      "name": "python3"
    },
    "language_info": {
      "name": "python"
    }
  },
  "cells": [
    {
      "cell_type": "markdown",
      "metadata": {
        "id": "view-in-github",
        "colab_type": "text"
      },
      "source": [
        "<a href=\"https://colab.research.google.com/github/bytoy/Project_CO/blob/main/modeling__(1).ipynb\" target=\"_parent\"><img src=\"https://colab.research.google.com/assets/colab-badge.svg\" alt=\"Open In Colab\"/></a>"
      ]
    },
    {
      "cell_type": "markdown",
      "metadata": {
        "id": "KMa0QsYyP5Mn"
      },
      "source": [
        "## **0. 패키지 설치**"
      ]
    },
    {
      "cell_type": "code",
      "metadata": {
        "colab": {
          "base_uri": "https://localhost:8080/"
        },
        "id": "7QSn1EYYprTL",
        "outputId": "75274e58-0d66-466b-965a-e865b3cab8c2"
      },
      "source": [
        "# drive.mount\n",
        "from google.colab import drive\n",
        "drive._mount('/content/drive/')"
      ],
      "execution_count": 1,
      "outputs": [
        {
          "output_type": "stream",
          "name": "stdout",
          "text": [
            "Drive already mounted at /content/drive/; to attempt to forcibly remount, call drive.mount(\"/content/drive/\", force_remount=True).\n"
          ]
        }
      ]
    },
    {
      "cell_type": "code",
      "metadata": {
        "colab": {
          "base_uri": "https://localhost:8080/"
        },
        "id": "0ol_xnAe2OkT",
        "outputId": "f626b32b-0ac2-4b96-80fa-6492ce06e646"
      },
      "source": [
        "# package import\n",
        "import numpy as np\n",
        "import seaborn as sns\n",
        "\n",
        "from sklearn.model_selection import train_test_split\n",
        "from collections import Counter\n",
        "from matplotlib import pyplot as plt\n",
        "\n",
        "import keras\n",
        "from keras import backend as K\n",
        "from keras import layers\n",
        "from keras.models import Model, Sequential, load_model, save_model\n",
        "from keras.layers import Input, Dense, BatchNormalization\n",
        "\n",
        "from keras.callbacks import EarlyStopping, ModelCheckpoint\n",
        "from keras.applications.vgg16 import VGG16, preprocess_input\n",
        "\n",
        "import tensorflow as tf\n",
        "from tensorflow.keras import regularizers\n",
        "from tensorflow.keras.optimizers import Adam\n",
        "\n",
        "print(tf.version.VERSION)"
      ],
      "execution_count": 2,
      "outputs": [
        {
          "output_type": "stream",
          "name": "stdout",
          "text": [
            "2.7.0\n"
          ]
        }
      ]
    },
    {
      "cell_type": "markdown",
      "metadata": {
        "id": "qZxVh9DETqQB"
      },
      "source": [
        "## **1. Parameter Setting**"
      ]
    },
    {
      "cell_type": "code",
      "metadata": {
        "id": "xWXDiAF9LAuL"
      },
      "source": [
        "## parameter setting\n",
        "# data\n",
        "PATH = '/content/drive/MyDrive/'\n",
        "PATH2 ='/content/drive/MyDrive/test/'\n",
        "PATH3 = '/content/drive/MyDrive/npy/'\n",
        "\n",
        "TRAIN_X_PATH = 'y_bin_replace_360_x13_224_25000.npy'\n",
        "TRAIN_Y_PATH = 'y_bin_replace_360_x13_224_25000.npy'\n",
        "\n",
        "NORMALIZATION = 359.0\n",
        "IMAGE_SHAPE = 224\n",
        "IMAGE_CHANNEL = 1\n",
        "\n",
        "VALIDATION_SPLIT = 0.3\n",
        "SPLIT_SHUFFLE = True\n",
        "\n",
        "SEED = 34\n",
        "\n",
        "MAX_COUNT_PER_ROTATION_224 = 600\n",
        "\n",
        "\n",
        "# check point & early stopping\n",
        "CHECK_POINT_PATH = 'check_point/tmp_checkpoint_2.ckpt/'\n",
        "CHECK_POINT_FILEPATH = PATH + CHECK_POINT_PATH\n",
        "CHECK_SAVE_BEST_ONLY = True\n",
        "CHECK_VERBOSE = -1\n",
        "\n",
        "EARLY_PATIENCE = 10\n",
        "EARLY_MIN_DELTA = 0\n",
        "\n",
        "CHECK_EARLY_MONITER = 'val_loss'\n",
        "CHECK_EARLY_MODE = 'min'\n",
        "\n",
        "\n",
        "# pre-trained model\n",
        "VGG_MODEL_H5 = 'vgg16_weights_tf_dim_ordering_tf_kernels_notop.h5'\n",
        "INCLUDE_TOP = False\n",
        "PARAMETER_TRAINING = False\n",
        "\n",
        "\n",
        "# model\n",
        "MODEL_SAVE = 'model.h5'\n",
        "NUM_CLASSES = 1"
      ],
      "execution_count": 14,
      "outputs": []
    },
    {
      "cell_type": "markdown",
      "metadata": {
        "id": "IoZ919ISTrhb"
      },
      "source": [
        "## **2. Data Import, Normalization, Split, Sample Weight**"
      ]
    },
    {
      "cell_type": "code",
      "metadata": {
        "id": "S88HF8jsJk9u"
      },
      "source": [
        "\"\"\"\n",
        "이전 학습 결과를 기반으로 train, validation 데이터를 일부 filtering 했을경우 아래의 코드 실행 \n",
        "\n",
        "# data import & normalization\n",
        "# data import & normalization\n",
        "x_train = np.load(PATH + 'x_train.npy')\n",
        "y_train = np.load(PATH + 'y_train.npy')\n",
        "x_valid = np.load(PATH + 'x_valid.npy')\n",
        "y_valid = np.load(PATH + 'y_valid.npy')\n",
        "\n",
        "target = np.concatenate((y_train, y_valid), axis=0)\n",
        "print(f'target data shape: {target.shape}')\n",
        "print(f'y_train data shape: {y_train.shape}')\n",
        "print(f'y_valid data shape: {y_valid.shape}')\n",
        "\"\"\""
      ],
      "execution_count": null,
      "outputs": []
    },
    {
      "cell_type": "code",
      "metadata": {
        "colab": {
          "base_uri": "https://localhost:8080/"
        },
        "id": "8c4V23g5wczJ",
        "outputId": "ed9bc19b-b379-4766-f54a-b750c436d319"
      },
      "source": [
        "# data import & normalization\n",
        "data = np.load(PATH3 + TRAIN_X_PATH)\n",
        "target = np.load(PATH3 + TRAIN_Y_PATH)\n",
        "\n",
        "print(f'image data shape: {data.shape}')\n",
        "print(f'label data shape: {target.shape}')\n",
        "print(f'train_y unique values: {list(set(target))[0:5]}')\n",
        "print(f'train_y unique values length: {len(set(target))}')"
      ],
      "execution_count": 16,
      "outputs": [
        {
          "output_type": "stream",
          "name": "stdout",
          "text": [
            "image data shape: (154469,)\n",
            "label data shape: (154469,)\n",
            "train_y unique values: [0, 1, 2, 3, 4]\n",
            "train_y unique values length: 360\n"
          ]
        }
      ]
    },
    {
      "cell_type": "code",
      "metadata": {
        "colab": {
          "base_uri": "https://localhost:8080/"
        },
        "id": "4tEnD985ch9n",
        "outputId": "5843ccf1-8a8f-4a98-a05f-ffd5ac259ce7"
      },
      "source": [
        "# train_test_split\n",
        "x_train, x_valid, y_train, y_valid = train_test_split(data,\n",
        "                                                      target,\n",
        "                                                      test_size = VALIDATION_SPLIT,\n",
        "                                                      shuffle = SPLIT_SHUFFLE,\n",
        "                                                      stratify = target,\n",
        "                                                      random_state = SEED)\n",
        "\n",
        "print(f'x_train data shape: {x_train.shape}')\n",
        "print(f'x_valid data shape: {x_valid.shape}')\n",
        "print(f'y_train data shape: {y_train.shape}')\n",
        "print(f'y_valid data shape: {y_valid.shape}')"
      ],
      "execution_count": 17,
      "outputs": [
        {
          "output_type": "stream",
          "name": "stdout",
          "text": [
            "x_train data shape: (108128,)\n",
            "x_valid data shape: (46341,)\n",
            "y_train data shape: (108128,)\n",
            "y_valid data shape: (46341,)\n"
          ]
        }
      ]
    },
    {
      "cell_type": "code",
      "metadata": {
        "id": "oEfmJnChmc0b"
      },
      "source": [
        "# 각도 별 이미지 개수 정보를 딕셔너리로 생성\n",
        "weight = dict(Counter(target))\n",
        "\n",
        "# 1로 채워진 리스트 생성\n",
        "sample_weight_train = np.ones(shape = (len(y_train) ,))\n",
        "sample_weight_val = np.ones(shape = (len(y_valid) ,))\n",
        "\n",
        "# 회전 각도 별 가중치를 생성하고 해당 각도를 갖는 인덱스 지점의 값을 가중치로 변경한다\n",
        "for label, count in weight.items() :\n",
        "  cor = int((MAX_COUNT_PER_ROTATION_224 - count)/100)\n",
        "  sample_weight_train[y_train == label] = cor\n",
        "  sample_weight_val[y_valid == label] = cor\n",
        "\n",
        "# 정규화 진행\n",
        "y_train = y_train / NORMALIZATION\n",
        "y_valid = y_valid / NORMALIZATION"
      ],
      "execution_count": 19,
      "outputs": []
    },
    {
      "cell_type": "markdown",
      "metadata": {
        "id": "JMKK2TzxT4bm"
      },
      "source": [
        "## **3. Model Setting, Complie, Train**"
      ]
    },
    {
      "cell_type": "code",
      "metadata": {
        "id": "v_k9WfeHWMCU"
      },
      "source": [
        "# check point\n",
        "check_point = ModelCheckpoint(filepath = CHECK_POINT_FILEPATH,\n",
        "                              monitor = CHECK_EARLY_MONITER,\n",
        "                              save_best_only = CHECK_SAVE_BEST_ONLY,\n",
        "                              mode = CHECK_EARLY_MODE,\n",
        "                              verbose = CHECK_VERBOSE)\n",
        "\n",
        "# early stopping\n",
        "early_stopping = EarlyStopping(monitor = CHECK_EARLY_MONITER,\n",
        "                               min_delta = EARLY_MIN_DELTA,\n",
        "                               patience = EARLY_PATIENCE,\n",
        "                               mode = CHECK_EARLY_MODE)\n",
        "\n",
        "# image reshape\n",
        "img_input = layers.Input(shape = (IMAGE_SHAPE,\n",
        "                                  IMAGE_SHAPE,\n",
        "                                  IMAGE_CHANNEL))\n",
        "\n",
        "img_conc = layers.Concatenate()([img_input,\n",
        "                                 img_input,\n",
        "                                 img_input])\n",
        "\n",
        "# pre-trained model\n",
        "base_model = VGG16(\n",
        "    weights = PATH + VGG_MODEL_H5,\n",
        "    include_top = INCLUDE_TOP, \n",
        "    input_tensor = img_conc)\n",
        "\n",
        "for layer in base_model.layers:\n",
        "    layer.trainable = PARAMETER_TRAINING"
      ],
      "execution_count": 7,
      "outputs": []
    },
    {
      "cell_type": "code",
      "metadata": {
        "id": "dTtaZq4v3JHJ"
      },
      "source": [
        "# model setting & compile\n",
        "model = Sequential()\n",
        "model.add(base_model)\n",
        "model.add(layers.Flatten())\n",
        "model.add(layers.BatchNormalization())\n",
        "model.add(layers.Dense(256,\n",
        "                       activation = 'relu'))\n",
        "model.add(layers.Dropout(0.1))\n",
        "model.add(layers.Dense(128,\n",
        "                       activation = 'relu'))\n",
        "model.add(layers.BatchNormalization())\n",
        "model.add(layers.Dense(64,\n",
        "                       activation = 'relu',\n",
        "                       kernel_regularizer = regularizers.l2(0.00001),\n",
        "                       activity_regularizer = regularizers.l1(0.00001)))\n",
        "model.add(layers.Dense(32,\n",
        "                       activation = 'relu',\n",
        "                       kernel_regularizer = regularizers.l2(0.00001),\n",
        "                       activity_regularizer = regularizers.l1(0.00001)))\n",
        "model.add(layers.Dense(NUM_CLASSES,\n",
        "                       activation = 'sigmoid'))\n",
        "\n",
        "model.compile(\n",
        "        loss = 'mse',\n",
        "        optimizer = Adam(learning_rate = 0.001),\n",
        "        metrics = ['mse'])"
      ],
      "execution_count": 8,
      "outputs": []
    },
    {
      "cell_type": "code",
      "metadata": {
        "colab": {
          "base_uri": "https://localhost:8080/",
          "height": 322
        },
        "id": "yw4vOIGSKLYN",
        "outputId": "082f7847-e2eb-4b38-c73c-a153cff6da5e"
      },
      "source": [
        "model.load_weights(CHECK_POINT_FILEPATH)"
      ],
      "execution_count": 13,
      "outputs": [
        {
          "output_type": "error",
          "ename": "NotFoundError",
          "evalue": "ignored",
          "traceback": [
            "\u001b[0;31m---------------------------------------------------------------------------\u001b[0m",
            "\u001b[0;31mNotFoundError\u001b[0m                             Traceback (most recent call last)",
            "\u001b[0;32m<ipython-input-13-b4d8bb2af248>\u001b[0m in \u001b[0;36m<module>\u001b[0;34m()\u001b[0m\n\u001b[0;32m----> 1\u001b[0;31m \u001b[0mmodel\u001b[0m\u001b[0;34m.\u001b[0m\u001b[0mload_weights\u001b[0m\u001b[0;34m(\u001b[0m\u001b[0mCHECK_POINT_FILEPATH\u001b[0m\u001b[0;34m)\u001b[0m\u001b[0;34m\u001b[0m\u001b[0;34m\u001b[0m\u001b[0m\n\u001b[0m",
            "\u001b[0;32m/usr/local/lib/python3.7/dist-packages/keras/utils/traceback_utils.py\u001b[0m in \u001b[0;36merror_handler\u001b[0;34m(*args, **kwargs)\u001b[0m\n\u001b[1;32m     65\u001b[0m     \u001b[0;32mexcept\u001b[0m \u001b[0mException\u001b[0m \u001b[0;32mas\u001b[0m \u001b[0me\u001b[0m\u001b[0;34m:\u001b[0m  \u001b[0;31m# pylint: disable=broad-except\u001b[0m\u001b[0;34m\u001b[0m\u001b[0;34m\u001b[0m\u001b[0m\n\u001b[1;32m     66\u001b[0m       \u001b[0mfiltered_tb\u001b[0m \u001b[0;34m=\u001b[0m \u001b[0m_process_traceback_frames\u001b[0m\u001b[0;34m(\u001b[0m\u001b[0me\u001b[0m\u001b[0;34m.\u001b[0m\u001b[0m__traceback__\u001b[0m\u001b[0;34m)\u001b[0m\u001b[0;34m\u001b[0m\u001b[0;34m\u001b[0m\u001b[0m\n\u001b[0;32m---> 67\u001b[0;31m       \u001b[0;32mraise\u001b[0m \u001b[0me\u001b[0m\u001b[0;34m.\u001b[0m\u001b[0mwith_traceback\u001b[0m\u001b[0;34m(\u001b[0m\u001b[0mfiltered_tb\u001b[0m\u001b[0;34m)\u001b[0m \u001b[0;32mfrom\u001b[0m \u001b[0;32mNone\u001b[0m\u001b[0;34m\u001b[0m\u001b[0;34m\u001b[0m\u001b[0m\n\u001b[0m\u001b[1;32m     68\u001b[0m     \u001b[0;32mfinally\u001b[0m\u001b[0;34m:\u001b[0m\u001b[0;34m\u001b[0m\u001b[0;34m\u001b[0m\u001b[0m\n\u001b[1;32m     69\u001b[0m       \u001b[0;32mdel\u001b[0m \u001b[0mfiltered_tb\u001b[0m\u001b[0;34m\u001b[0m\u001b[0;34m\u001b[0m\u001b[0m\n",
            "\u001b[0;32m/usr/local/lib/python3.7/dist-packages/tensorflow/python/training/py_checkpoint_reader.py\u001b[0m in \u001b[0;36merror_translator\u001b[0;34m(e)\u001b[0m\n\u001b[1;32m     33\u001b[0m       \u001b[0;34m'Failed to find any '\u001b[0m\u001b[0;34m\u001b[0m\u001b[0;34m\u001b[0m\u001b[0m\n\u001b[1;32m     34\u001b[0m       'matching files for') in error_message:\n\u001b[0;32m---> 35\u001b[0;31m     \u001b[0;32mraise\u001b[0m \u001b[0merrors_impl\u001b[0m\u001b[0;34m.\u001b[0m\u001b[0mNotFoundError\u001b[0m\u001b[0;34m(\u001b[0m\u001b[0;32mNone\u001b[0m\u001b[0;34m,\u001b[0m \u001b[0;32mNone\u001b[0m\u001b[0;34m,\u001b[0m \u001b[0merror_message\u001b[0m\u001b[0;34m)\u001b[0m\u001b[0;34m\u001b[0m\u001b[0;34m\u001b[0m\u001b[0m\n\u001b[0m\u001b[1;32m     36\u001b[0m   elif 'Sliced checkpoints are not supported' in error_message or (\n\u001b[1;32m     37\u001b[0m       \u001b[0;34m'Data type '\u001b[0m\u001b[0;34m\u001b[0m\u001b[0;34m\u001b[0m\u001b[0m\n",
            "\u001b[0;31mNotFoundError\u001b[0m: Unsuccessful TensorSliceReader constructor: Failed to find any matching files for /content/drive/MyDrive/check_point/tmp_checkpoint_2.ckpt/"
          ]
        }
      ]
    },
    {
      "cell_type": "code",
      "metadata": {
        "id": "eFJLW0rnQ4Ih",
        "colab": {
          "base_uri": "https://localhost:8080/"
        },
        "outputId": "9bc80f68-c001-4473-ceda-b0dd9d2398b6"
      },
      "source": [
        "# training\n",
        "history = model.fit(x_train, y_train, \n",
        "          validation_data = (x_valid, y_valid, sample_weight_val),\n",
        "          epochs = 1,\n",
        "          batch_size = 128,\n",
        "          sample_weight = sample_weight_train,\n",
        "          callbacks = [early_stopping,\n",
        "                       check_point])"
      ],
      "execution_count": null,
      "outputs": [
        {
          "output_type": "stream",
          "name": "stdout",
          "text": [
            "845/845 [==============================] - ETA: 0s - loss: 0.0343 - mse: 0.0321"
          ]
        }
      ]
    },
    {
      "cell_type": "markdown",
      "metadata": {
        "id": "RGA-RRy5Uywy"
      },
      "source": [
        "## **4. Evaluation**"
      ]
    },
    {
      "cell_type": "code",
      "metadata": {
        "id": "Y5cIEfSvwin2"
      },
      "source": [
        "save_model(model, PATH + MODEL_SAVE, overwrite = True, include_optimizer = True)"
      ],
      "execution_count": null,
      "outputs": []
    },
    {
      "cell_type": "code",
      "metadata": {
        "id": "wdoV1c-CwuNJ"
      },
      "source": [
        "model_2 = load_model(PATH + MODEL_SAVE, custom_objects = None, compile = True)"
      ],
      "execution_count": 12,
      "outputs": []
    },
    {
      "cell_type": "code",
      "metadata": {
        "id": "llWWeQ432-em"
      },
      "source": [
        "x_train = x_train.reshape(-1, 224, 224, 1)"
      ],
      "execution_count": null,
      "outputs": []
    },
    {
      "cell_type": "code",
      "metadata": {
        "id": "uYR-HuMV6QiG",
        "colab": {
          "base_uri": "https://localhost:8080/"
        },
        "outputId": "c53579fc-bbd1-4c80-80f5-b11da1f212a2"
      },
      "source": [
        "# 모델 학습 결과 확인\n",
        "prediction = model_2.predict(test[0:100])\n",
        "\n",
        "# 학습 결과를 담은 리스트 생성\n",
        "result = []\n",
        "for i in range(len(prediction)) :\n",
        "  result.append(prediction[i][0])\n",
        "\n",
        "# 실제값과 예측값의 차이 계산 및 단위 보정 결과를 담은 리스트 생성\n",
        "diff = []\n",
        "for pred, label in zip(result, y_train) :\n",
        "  diff.append(abs(pred - label) * NORMALIZATION)\n",
        "\n",
        "# 오름차순 정렬을 위한 리스트 복제\n",
        "diff_2 = diff.copy()\n",
        "diff_2.sort(reverse = True)\n",
        "\n",
        "# 결과 출력\n",
        "for i in diff_2[0:50] :\n",
        "  index = diff.index(i)\n",
        "  print(\"pred {2}\".format(round(diff[index]), round(y_train[index]*359), round(result[index]*359)))"
      ],
      "execution_count": 21,
      "outputs": [
        {
          "output_type": "stream",
          "name": "stdout",
          "text": [
            "pred 0\n",
            "pred 359\n",
            "pred 359\n",
            "pred 359\n",
            "pred 359\n",
            "pred 359\n",
            "pred 359\n",
            "pred 359\n",
            "pred 359\n",
            "pred 359\n",
            "pred 359\n",
            "pred 356\n",
            "pred 359\n",
            "pred 359\n",
            "pred 0\n",
            "pred 359\n",
            "pred 0\n",
            "pred 0\n",
            "pred 1\n",
            "pred 359\n",
            "pred 0\n",
            "pred 122\n",
            "pred 64\n",
            "pred 359\n",
            "pred 52\n",
            "pred 1\n",
            "pred 34\n",
            "pred 49\n",
            "pred 356\n",
            "pred 52\n",
            "pred 102\n",
            "pred 86\n",
            "pred 1\n",
            "pred 0\n",
            "pred 355\n",
            "pred 162\n",
            "pred 0\n",
            "pred 178\n",
            "pred 56\n",
            "pred 359\n",
            "pred 0\n",
            "pred 148\n",
            "pred 144\n",
            "pred 190\n",
            "pred 359\n",
            "pred 341\n",
            "pred 171\n",
            "pred 357\n",
            "pred 155\n",
            "pred 142\n"
          ]
        }
      ]
    },
    {
      "cell_type": "code",
      "metadata": {
        "colab": {
          "base_uri": "https://localhost:8080/"
        },
        "id": "hrr5NLwMZGqY",
        "outputId": "54ebc178-b0e0-4cef-eea9-59300bf483e9"
      },
      "source": [
        "# 모델 학습 결과 확인\n",
        "prediction = model.predict(x_train[0:100])\n",
        "prediction[0]\n",
        "\n",
        "# # 학습 결과를 담은 리스트 생성\n",
        "# result = []\n",
        "# for i in range(len(prediction)) :\n",
        "#   result.append(prediction[i][0]*359)\n",
        "#   # print(\"for image {0} angle: {1}, pred: {2}\".format(i, angle, pred))\n",
        "\n",
        "# print(result)"
      ],
      "execution_count": null,
      "outputs": [
        {
          "data": {
            "text/plain": [
              "array([0.00141118], dtype=float32)"
            ]
          },
          "execution_count": 20,
          "metadata": {},
          "output_type": "execute_result"
        }
      ]
    },
    {
      "cell_type": "code",
      "metadata": {
        "colab": {
          "base_uri": "https://localhost:8080/"
        },
        "id": "arQup1mTTt7V",
        "outputId": "dc350c9b-21d5-4520-952a-dfb163ddae13"
      },
      "source": [
        "# 2도 이내 기준으로 학습 데이터의 정답, 오답 수 계산\n",
        "correct_train = 0\n",
        "incorrect_train = 0\n",
        "\n",
        "for i in diff_train :\n",
        "  if i > 2 :\n",
        "    incorrect_train += 1\n",
        "  else :    \n",
        "    correct_train += 1\n",
        "\n",
        "print(f\"2도 이내 정답: {correct_train}, 2도 이내 오답: {incorrect_train}, 정답률: {correct_train/len(x_train)}\")"
      ],
      "execution_count": null,
      "outputs": [
        {
          "name": "stdout",
          "output_type": "stream",
          "text": [
            "2도 이내 정답: 100, 2도 이내 오답: 0, 정답률: 0.0010278865624389693\n"
          ]
        }
      ]
    },
    {
      "cell_type": "code",
      "metadata": {
        "colab": {
          "base_uri": "https://localhost:8080/",
          "height": 318
        },
        "id": "xYSL8N6lR9Vu",
        "outputId": "8533f8cb-eb0b-40a8-e457-56232b6af5a3"
      },
      "source": [
        "# KDE, ECDF, Histogram으로 학습 데이터의 결과 시각화\n",
        "fig, ax = plt.subplots(1, 3, figsize = (45, 10))\n",
        "sns.kdeplot(diff_train, cut = 0, ax = ax[0]);\n",
        "sns.ecdfplot(diff_train, ax = ax[1]);\n",
        "sns.histplot(diff_train, bins = 20, ax = ax[2]);"
      ],
      "execution_count": null,
      "outputs": [
        {
          "data": {
            "image/png": "[encoded data removed]",
            "text/plain": [
              "<Figure size 3240x720 with 3 Axes>"
            ]
          },
          "metadata": {},
          "output_type": "display_data"
        }
      ]
    }
  ]
}